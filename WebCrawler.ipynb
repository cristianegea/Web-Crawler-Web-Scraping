{
 "metadata": {
  "language_info": {
   "codemirror_mode": {
    "name": "ipython",
    "version": 3
   },
   "file_extension": ".py",
   "mimetype": "text/x-python",
   "name": "python",
   "nbconvert_exporter": "python",
   "pygments_lexer": "ipython3",
   "version": "3.7.9-final"
  },
  "orig_nbformat": 2,
  "kernelspec": {
   "name": "Python 3.7.9 64-bit",
   "display_name": "Python 3.7.9 64-bit",
   "metadata": {
    "interpreter": {
     "hash": "5a2e1c3d1bc2ab87cec91ef80daf8d9f45d326f95f70fe969251431fca29d43e"
    }
   }
  }
 },
 "nbformat": 4,
 "nbformat_minor": 2,
 "cells": [
  {
   "source": [
    "# Web Crawler"
   ],
   "cell_type": "markdown",
   "metadata": {}
  },
  {
   "source": [
    "Instalação dos pacotes básicos\n",
    "\n",
    "conda install -c conda-forge uritools\n",
    "\n",
    "conda install -c conda-forge scrapy"
   ],
   "cell_type": "markdown",
   "metadata": {}
  },
  {
   "source": [
    "Para abrir o scrapy shell no prompt de comando do Anaconda:\n",
    "\n",
    "scrapy shell https://www.igti.com.br/blog/\n",
    "\n",
    "Obs.: https://www.igti.com.br/blog/ corresponde à url que estou utilizando como parâmetro (por exemplo)"
   ],
   "cell_type": "markdown",
   "metadata": {}
  }
 ]
}